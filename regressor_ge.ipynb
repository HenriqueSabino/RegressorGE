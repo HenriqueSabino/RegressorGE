{
 "cells": [
  {
   "cell_type": "code",
   "execution_count": 45,
   "metadata": {},
   "outputs": [
    {
     "name": "stderr",
     "output_type": "stream",
     "text": [
      "fatal: destination path 'PonyGE2' already exists and is not an empty directory.\n"
     ]
    }
   ],
   "source": [
    "!git clone https://github.com/PonyGE/PonyGE2.git"
   ]
  },
  {
   "cell_type": "code",
   "execution_count": 59,
   "metadata": {},
   "outputs": [
    {
     "name": "stdout",
     "output_type": "stream",
     "text": [
      "Already up to date.\n"
     ]
    }
   ],
   "source": [
    "!cd PonyGE2/ && git pull"
   ]
  },
  {
   "cell_type": "code",
   "execution_count": 72,
   "metadata": {},
   "outputs": [
    {
     "name": "stdout",
     "output_type": "stream",
     "text": [
      "        0 file(s) copied.\n"
     ]
    },
    {
     "name": "stderr",
     "output_type": "stream",
     "text": [
      "The system cannot find the file specified.\n"
     ]
    }
   ],
   "source": [
    "import shutil\n",
    "\n",
    "shutil.move(\"./fitness/number_match.py\", \"./PonyGE2/src/fitness/\")"
   ]
  },
  {
   "cell_type": "code",
   "execution_count": 67,
   "metadata": {},
   "outputs": [
    {
     "name": "stdout",
     "output_type": "stream",
     "text": [
      "\n",
      "Start:\t 2023-02-01 21:17:51.111995 \n",
      "\n",
      "Evolution: 0% complete\n",
      "Evolution: 33% complete\n",
      "Evolution: 66% complete\n",
      "Evolution: 66% complete\n",
      "\n",
      "\n",
      "Best:\n",
      "  Fitness:\t 10\n",
      "  Phenotype: 29 + 3\n",
      "  Genome: [39389, 73405, 36562, 35776, 58419, 39878, 70862, 97133, 51064, 84825, 51582, 94118, 79666, 98840, 17207, 46274, 62361, 26395, 46703, 44669, 13947, 84668, 57756, 67378, 69110, 8144, 20657, 82183, 72722, 21121, 77375, 29279, 37891, 60575, 54425, 29792, 73340, 59305, 14676, 54727, 93876, 3728, 32878, 58016, 39729, 38214, 35310, 65023, 19075, 24945, 52702, 46277, 7589, 20123, 28161, 12013, 35999, 67433, 87541, 35926, 32130, 89636, 19751, 91110, 71690, 21993, 94418, 72036, 49131, 30082, 55573, 68480, 64127, 66720, 28554, 28130, 67110, 25433, 45301, 40678, 54601, 76176, 85116, 40664, 2648, 26978, 18505, 37874, 73435, 14315, 80397, 40788, 28573, 87330, 47552, 74375, 39327, 13599, 73707, 37638, 69067, 3972, 70395, 66362, 39091, 11867, 33027, 70596, 72112, 50942, 50998, 25575, 50085, 6725, 306, 9933, 15802, 40432, 20728, 26154, 33889, 9767, 85075, 28808, 45450, 71982, 89704, 47154, 45383, 80719, 20606, 39402, 21620, 50819, 81354, 64586, 17943, 1674, 91298, 60518, 77104, 66103, 66241, 69256, 43970, 14854, 43660, 32260, 70161, 90408, 99619, 10368, 75183, 94217, 57709, 7982, 25144, 63156, 53158, 19211, 86054, 89938, 95270, 96643, 69335, 65062, 51918, 65476, 18653, 13157, 49609, 78306, 87873, 72088, 89205, 95501, 89889, 20314, 20637, 54729, 16230, 6596, 75173, 88460, 72648, 79705, 32331, 20739, 69940, 87685, 74071, 96665, 44747, 22364, 73929, 85779, 96774, 95286, 56671, 62270]\n",
      "______\n",
      "\n",
      "  ave_fitness : \t 828.4\n",
      "  ave_genome_length : \t 200.0\n",
      "  ave_tree_depth : \t 5.3\n",
      "  ave_tree_nodes : \t 12.2\n",
      "  ave_used_codons : \t 8.2\n",
      "  best_fitness : \t 10\n",
      "  gen : \t 2\n",
      "  invalids : \t 0\n",
      "  max_genome_length : \t 200\n",
      "  max_tree_depth : \t 7\n",
      "  max_tree_nodes : \t 21\n",
      "  max_used_codons : \t 14\n",
      "  min_genome_length : \t 200\n",
      "  min_tree_depth : \t 4\n",
      "  min_tree_nodes : \t 4\n",
      "  min_used_codons : \t 3\n",
      "  runtime_error : \t 0\n",
      "  time_adjust : \t 0\n",
      "  time_taken : \t 0.0\n",
      "  total_inds : \t 30\n",
      "  total_time : \t 0.01754617691040039\n",
      "  unique_inds : \t 10\n",
      "  unused_search : \t 66.66666666666667\n",
      "\n",
      "\n"
     ]
    }
   ],
   "source": [
    "!cd ./PonyGE2/src && python ponyge.py --parameters ../../parameters/number_match.txt"
   ]
  },
  {
   "cell_type": "code",
   "execution_count": 68,
   "metadata": {},
   "outputs": [
    {
     "name": "stderr",
     "output_type": "stream",
     "text": [
      "The system cannot find the path specified.\n"
     ]
    }
   ],
   "source": [
    "shutil.move(\"./PonyGE2/src/fitness/number_match.py\", \"./fitness/\")\n"
   ]
  }
 ],
 "metadata": {
  "kernelspec": {
   "display_name": "Python 3",
   "language": "python",
   "name": "python3"
  },
  "language_info": {
   "codemirror_mode": {
    "name": "ipython",
    "version": 3
   },
   "file_extension": ".py",
   "mimetype": "text/x-python",
   "name": "python",
   "nbconvert_exporter": "python",
   "pygments_lexer": "ipython3",
   "version": "3.11.1"
  },
  "orig_nbformat": 4,
  "vscode": {
   "interpreter": {
    "hash": "ec24db49983a949fb72ed67dd1ffbda33d167907641147950d83ba6b0bf33f37"
   }
  }
 },
 "nbformat": 4,
 "nbformat_minor": 2
}
