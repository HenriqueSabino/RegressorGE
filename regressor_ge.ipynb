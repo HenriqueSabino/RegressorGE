{
 "cells": [
  {
   "cell_type": "code",
   "execution_count": 76,
   "metadata": {},
   "outputs": [
    {
     "name": "stderr",
     "output_type": "stream",
     "text": [
      "fatal: destination path 'PonyGE2' already exists and is not an empty directory.\n"
     ]
    }
   ],
   "source": [
    "!git clone https://github.com/PonyGE/PonyGE2.git"
   ]
  },
  {
   "cell_type": "code",
   "execution_count": 77,
   "metadata": {},
   "outputs": [
    {
     "name": "stdout",
     "output_type": "stream",
     "text": [
      "Already up to date.\n"
     ]
    }
   ],
   "source": [
    "!cd PonyGE2/ && git pull"
   ]
  },
  {
   "cell_type": "code",
   "execution_count": 78,
   "metadata": {},
   "outputs": [
    {
     "data": {
      "text/plain": [
       "'./PonyGE2/src/fitness/number_match.py'"
      ]
     },
     "execution_count": 78,
     "metadata": {},
     "output_type": "execute_result"
    }
   ],
   "source": [
    "import shutil\n",
    "\n",
    "experiment = \"regression\"\n",
    "\n",
    "shutil.move(f\"./fitness/{experiment}.py\", \"./PonyGE2/src/fitness/\")\n"
   ]
  },
  {
   "cell_type": "code",
   "execution_count": 79,
   "metadata": {},
   "outputs": [
    {
     "name": "stdout",
     "output_type": "stream",
     "text": [
      "\n",
      "Start:\t 2023-02-01 21:27:47.232675 \n",
      "\n",
      "Evolution: 0% complete\n",
      "Evolution: 33% complete\n",
      "Evolution: 66% complete\n",
      "Evolution: 66% complete\n",
      "\n",
      "\n",
      "Best:\n",
      "  Fitness:\t 14\n",
      "  Phenotype: 56\n",
      "  Genome: [60370, 31395, 43655, 84246, 61746, 65319, 36474, 55148, 15627, 57902, 19294, 65937, 44839, 64154, 12403, 91454, 28063, 52285, 53160, 55231, 65797, 77921, 8254, 14370, 7301, 74183, 6041, 58704, 6927, 97254, 16178, 18676, 95267, 77221, 68756, 18035, 35752, 31616, 33269, 26720, 89082, 26701, 77624, 47404, 84962, 13018, 4772, 2444, 87640, 25038, 8588, 90944, 95515, 23301, 87710, 86374, 4703, 76597, 55677, 15375, 12147, 41528, 44109, 47749, 80075, 28165, 55367, 83519, 83246, 25790, 89663, 53700, 47228, 71421, 2848, 32149, 84049, 54033, 96425, 20127, 80122, 61287, 68123, 18412, 81462, 42641, 76389, 65558, 38259, 34710, 17801, 78681, 73717, 35460, 88471, 33680, 13888, 69793, 85684, 97618, 4379, 7171, 43214, 49328, 86531, 11831, 22903, 17025, 8131, 38190, 12168, 688, 6760, 70156, 65126, 94045, 50219, 20975, 95222, 64575, 85881, 84920, 37827, 63520, 18837, 76416, 17967, 76869, 21350, 6557, 99533, 34127, 31325, 35241, 37469, 10590, 55970, 93651, 96962, 82808, 18784, 39877, 73829, 21201, 51235, 12405, 29444, 39025, 45918, 38564, 91092, 32887, 18503, 70164, 74272, 67259, 24009, 81183, 18065, 2925, 30161, 56531, 75345, 31990, 94614, 63002, 97150, 43666, 68190, 98226, 50295, 51861, 52152, 94014, 20412, 90733, 65358, 81511, 94807, 81446, 54429, 42843, 60474, 15205, 16521, 8339, 69553, 9964, 76586, 58047, 2806, 14937, 96106, 51392, 80674, 87676, 63255, 16425, 16063, 55]\n",
      "______\n",
      "\n",
      "  ave_fitness : \t 249.3\n",
      "  ave_genome_length : \t 200.0\n",
      "  ave_tree_depth : \t 5.1\n",
      "  ave_tree_nodes : \t 9.6\n",
      "  ave_used_codons : \t 6.6\n",
      "  best_fitness : \t 14\n",
      "  gen : \t 2\n",
      "  invalids : \t 0\n",
      "  max_genome_length : \t 200\n",
      "  max_tree_depth : \t 6\n",
      "  max_tree_nodes : \t 18\n",
      "  max_used_codons : \t 12\n",
      "  min_genome_length : \t 200\n",
      "  min_tree_depth : \t 4\n",
      "  min_tree_nodes : \t 4\n",
      "  min_used_codons : \t 3\n",
      "  runtime_error : \t 0\n",
      "  time_adjust : \t 0\n",
      "  time_taken : \t 0.0\n",
      "  total_inds : \t 30\n",
      "  total_time : \t 0.01806807518005371\n",
      "  unique_inds : \t 9\n",
      "  unused_search : \t 70.0\n",
      "\n",
      "\n"
     ]
    }
   ],
   "source": [
    "!cd ./PonyGE2/src && python ponyge.py --parameters ../../parameters/{experiment}.txt"
   ]
  },
  {
   "cell_type": "code",
   "execution_count": 80,
   "metadata": {},
   "outputs": [
    {
     "data": {
      "text/plain": [
       "'./fitness/number_match.py'"
      ]
     },
     "execution_count": 80,
     "metadata": {},
     "output_type": "execute_result"
    }
   ],
   "source": [
    "shutil.move(f\"./PonyGE2/src/fitness/{experiment}.py\", \"./fitness/\")\n"
   ]
  }
 ],
 "metadata": {
  "kernelspec": {
   "display_name": "Python 3",
   "language": "python",
   "name": "python3"
  },
  "language_info": {
   "codemirror_mode": {
    "name": "ipython",
    "version": 3
   },
   "file_extension": ".py",
   "mimetype": "text/x-python",
   "name": "python",
   "nbconvert_exporter": "python",
   "pygments_lexer": "ipython3",
   "version": "3.11.1"
  },
  "orig_nbformat": 4,
  "vscode": {
   "interpreter": {
    "hash": "ec24db49983a949fb72ed67dd1ffbda33d167907641147950d83ba6b0bf33f37"
   }
  }
 },
 "nbformat": 4,
 "nbformat_minor": 2
}
