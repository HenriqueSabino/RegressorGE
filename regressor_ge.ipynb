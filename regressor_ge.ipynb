{
 "cells": [
  {
   "cell_type": "code",
   "execution_count": 11,
   "metadata": {},
   "outputs": [
    {
     "name": "stderr",
     "output_type": "stream",
     "text": [
      "fatal: destination path 'PonyGE2' already exists and is not an empty directory.\n"
     ]
    }
   ],
   "source": [
    "!git clone https://github.com/PonyGE/PonyGE2.git"
   ]
  },
  {
   "cell_type": "code",
   "execution_count": 12,
   "metadata": {},
   "outputs": [
    {
     "name": "stdout",
     "output_type": "stream",
     "text": [
      "Already up to date.\n"
     ]
    }
   ],
   "source": [
    "!cd PonyGE2/ && git pull"
   ]
  },
  {
   "cell_type": "code",
   "execution_count": 16,
   "metadata": {},
   "outputs": [
    {
     "name": "stdout",
     "output_type": "stream",
     "text": [
      "Requirement already satisfied: numpy in c:\\users\\hsabi\\appdata\\local\\programs\\python\\python311\\lib\\site-packages (1.24.1)\n",
      "Note: you may need to restart the kernel to use updated packages.\n"
     ]
    },
    {
     "name": "stderr",
     "output_type": "stream",
     "text": [
      "\n",
      "[notice] A new release of pip available: 22.3.1 -> 23.0.1\n",
      "[notice] To update, run: python.exe -m pip install --upgrade pip\n"
     ]
    }
   ],
   "source": [
    "#pip installs\n",
    "\n",
    "%pip install numpy"
   ]
  },
  {
   "cell_type": "code",
   "execution_count": null,
   "metadata": {},
   "outputs": [],
   "source": [
    "%pip install sewar\n"
   ]
  },
  {
   "cell_type": "code",
   "execution_count": null,
   "metadata": {},
   "outputs": [],
   "source": [
    "%pip install openpyxl\n"
   ]
  },
  {
   "cell_type": "code",
   "execution_count": 14,
   "metadata": {},
   "outputs": [
    {
     "data": {
      "text/plain": [
       "'./PonyGE2/src/fitness/regression.py'"
      ]
     },
     "execution_count": 14,
     "metadata": {},
     "output_type": "execute_result"
    }
   ],
   "source": [
    "import shutil\n",
    "\n",
    "experiment = \"regression\"\n",
    "\n",
    "shutil.move(f\"./fitness/{experiment}.py\", \"./PonyGE2/src/fitness/\")\n"
   ]
  },
  {
   "cell_type": "code",
   "execution_count": 15,
   "metadata": {},
   "outputs": [
    {
     "name": "stdout",
     "output_type": "stream",
     "text": [
      "\n",
      "Start:\t 2023-02-21 20:29:18.409641 \n",
      "\n"
     ]
    },
    {
     "name": "stderr",
     "output_type": "stream",
     "text": [
      "Traceback (most recent call last):\n",
      "  File \"c:\\Users\\hsabi\\Projects\\AIBox\\RegressorGE\\PonyGE2\\src\\utilities\\algorithm\\initialise_run.py\", line 262, in return_attr_from_module\n",
      "    module = importlib.import_module(module_name)\n",
      "             ^^^^^^^^^^^^^^^^^^^^^^^^^^^^^^^^^^^^\n",
      "  File \"c:\\Users\\hsabi\\AppData\\Local\\Programs\\Python\\Python311\\Lib\\importlib\\__init__.py\", line 126, in import_module\n",
      "    return _bootstrap._gcd_import(name[level:], package, level)\n",
      "           ^^^^^^^^^^^^^^^^^^^^^^^^^^^^^^^^^^^^^^^^^^^^^^^^^^^^\n",
      "  File \"<frozen importlib._bootstrap>\", line 1206, in _gcd_import\n",
      "  File \"<frozen importlib._bootstrap>\", line 1178, in _find_and_load\n",
      "  File \"<frozen importlib._bootstrap>\", line 1149, in _find_and_load_unlocked\n",
      "  File \"<frozen importlib._bootstrap>\", line 690, in _load_unlocked\n",
      "  File \"<frozen importlib._bootstrap_external>\", line 940, in exec_module\n",
      "  File \"<frozen importlib._bootstrap>\", line 241, in _call_with_frames_removed\n",
      "  File \"c:\\Users\\hsabi\\Projects\\AIBox\\RegressorGE\\PonyGE2\\src\\fitness\\regression.py\", line 4, in <module>\n",
      "    from sewar.full_ref import mse\n",
      "ModuleNotFoundError: No module named 'sewar'\n",
      "\n",
      "During handling of the above exception, another exception occurred:\n",
      "\n",
      "Traceback (most recent call last):\n",
      "  File \"c:\\Users\\hsabi\\Projects\\AIBox\\RegressorGE\\PonyGE2\\src\\ponyge.py\", line 31, in <module>\n",
      "    mane()\n",
      "  File \"c:\\Users\\hsabi\\Projects\\AIBox\\RegressorGE\\PonyGE2\\src\\ponyge.py\", line 21, in mane\n",
      "    set_params(sys.argv[1:])  # exclude the ponyge.py arg itself\n",
      "    ^^^^^^^^^^^^^^^^^^^^^^^^\n",
      "  File \"c:\\Users\\hsabi\\Projects\\AIBox\\RegressorGE\\PonyGE2\\src\\algorithm\\parameters.py\", line 317, in set_params\n",
      "    set_param_imports()\n",
      "  File \"c:\\Users\\hsabi\\Projects\\AIBox\\RegressorGE\\PonyGE2\\src\\utilities\\algorithm\\initialise_run.py\", line 99, in set_param_imports\n",
      "    get_fit_func_imports()\n",
      "  File \"c:\\Users\\hsabi\\Projects\\AIBox\\RegressorGE\\PonyGE2\\src\\utilities\\algorithm\\initialise_run.py\", line 243, in get_fit_func_imports\n",
      "    params[op] = return_attr_from_module(module_name, attr_name)\n",
      "                 ^^^^^^^^^^^^^^^^^^^^^^^^^^^^^^^^^^^^^^^^^^^^^^^\n",
      "  File \"c:\\Users\\hsabi\\Projects\\AIBox\\RegressorGE\\PonyGE2\\src\\utilities\\algorithm\\initialise_run.py\", line 267, in return_attr_from_module\n",
      "    raise Exception(s)\n",
      "Exception: utilities.algorithm.initialise_run.return_attr_from_module\n",
      "Error: Specified module not found: fitness.regression\n"
     ]
    },
    {
     "data": {
      "text/plain": [
       "'./fitness/regression.py'"
      ]
     },
     "execution_count": 15,
     "metadata": {},
     "output_type": "execute_result"
    }
   ],
   "source": [
    "!cd ./PonyGE2/src && python ponyge.py --parameters ../../parameters/{experiment}.txt\n",
    "shutil.move(f\"./PonyGE2/src/fitness/{experiment}.py\", \"./fitness/\")"
   ]
  }
 ],
 "metadata": {
  "kernelspec": {
   "display_name": "Python 3",
   "language": "python",
   "name": "python3"
  },
  "language_info": {
   "codemirror_mode": {
    "name": "ipython",
    "version": 3
   },
   "file_extension": ".py",
   "mimetype": "text/x-python",
   "name": "python",
   "nbconvert_exporter": "python",
   "pygments_lexer": "ipython3",
   "version": "3.10.7"
  },
  "orig_nbformat": 4,
  "vscode": {
   "interpreter": {
    "hash": "0f4aad36e1a7834f44c14e84b98527cfbefef55e7a336cfec74130d804d73c8f"
   }
  }
 },
 "nbformat": 4,
 "nbformat_minor": 2
}
