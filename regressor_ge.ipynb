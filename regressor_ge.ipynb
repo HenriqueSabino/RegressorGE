{
 "cells": [
  {
   "cell_type": "code",
   "execution_count": 1,
   "metadata": {},
   "outputs": [
    {
     "name": "stderr",
     "output_type": "stream",
     "text": [
      "fatal: destination path 'PonyGE2' already exists and is not an empty directory.\n"
     ]
    }
   ],
   "source": [
    "!git clone https://github.com/PonyGE/PonyGE2.git"
   ]
  },
  {
   "cell_type": "code",
   "execution_count": 2,
   "metadata": {},
   "outputs": [
    {
     "name": "stdout",
     "output_type": "stream",
     "text": [
      "Already up to date.\n"
     ]
    }
   ],
   "source": [
    "!cd PonyGE2/ && git pull"
   ]
  },
  {
   "cell_type": "code",
   "execution_count": 3,
   "metadata": {},
   "outputs": [
    {
     "name": "stdout",
     "output_type": "stream",
     "text": [
      "Requirement already satisfied: numpy in c:\\users\\hsabi\\appdata\\local\\programs\\python\\python311\\lib\\site-packages (1.24.1)\n",
      "Note: you may need to restart the kernel to use updated packages.\n"
     ]
    },
    {
     "name": "stderr",
     "output_type": "stream",
     "text": [
      "\n",
      "[notice] A new release of pip available: 22.3.1 -> 23.0.1\n",
      "[notice] To update, run: python.exe -m pip install --upgrade pip\n"
     ]
    }
   ],
   "source": [
    "#pip installs\n",
    "\n",
    "%pip install numpy"
   ]
  },
  {
   "cell_type": "code",
   "execution_count": 4,
   "metadata": {},
   "outputs": [
    {
     "name": "stdout",
     "output_type": "stream",
     "text": [
      "Requirement already satisfied: sewar in c:\\users\\hsabi\\appdata\\local\\programs\\python\\python311\\lib\\site-packages (0.4.5)\n",
      "Requirement already satisfied: numpy in c:\\users\\hsabi\\appdata\\local\\programs\\python\\python311\\lib\\site-packages (from sewar) (1.24.1)\n",
      "Requirement already satisfied: scipy in c:\\users\\hsabi\\appdata\\local\\programs\\python\\python311\\lib\\site-packages (from sewar) (1.10.1)\n",
      "Requirement already satisfied: Pillow in c:\\users\\hsabi\\appdata\\local\\programs\\python\\python311\\lib\\site-packages (from sewar) (9.4.0)\n",
      "Note: you may need to restart the kernel to use updated packages.\n"
     ]
    },
    {
     "name": "stderr",
     "output_type": "stream",
     "text": [
      "\n",
      "[notice] A new release of pip available: 22.3.1 -> 23.0.1\n",
      "[notice] To update, run: python.exe -m pip install --upgrade pip\n"
     ]
    }
   ],
   "source": [
    "%pip install sewar\n"
   ]
  },
  {
   "cell_type": "code",
   "execution_count": 5,
   "metadata": {},
   "outputs": [
    {
     "name": "stdout",
     "output_type": "stream",
     "text": [
      "Requirement already satisfied: openpyxl in c:\\users\\hsabi\\appdata\\local\\programs\\python\\python311\\lib\\site-packages (3.1.1)\n",
      "Requirement already satisfied: et-xmlfile in c:\\users\\hsabi\\appdata\\local\\programs\\python\\python311\\lib\\site-packages (from openpyxl) (1.1.0)\n",
      "Note: you may need to restart the kernel to use updated packages.\n"
     ]
    },
    {
     "name": "stderr",
     "output_type": "stream",
     "text": [
      "\n",
      "[notice] A new release of pip available: 22.3.1 -> 23.0.1\n",
      "[notice] To update, run: python.exe -m pip install --upgrade pip\n"
     ]
    }
   ],
   "source": [
    "%pip install openpyxl\n"
   ]
  },
  {
   "cell_type": "code",
   "execution_count": 6,
   "metadata": {},
   "outputs": [
    {
     "data": {
      "text/plain": [
       "'./PonyGE2/src/fitness/regression.py'"
      ]
     },
     "execution_count": 6,
     "metadata": {},
     "output_type": "execute_result"
    }
   ],
   "source": [
    "import shutil\n",
    "\n",
    "experiment = \"regression\"\n",
    "\n",
    "shutil.move(f\"./fitness/{experiment}.py\", \"./PonyGE2/src/fitness/\")\n"
   ]
  },
  {
   "cell_type": "code",
   "execution_count": 7,
   "metadata": {},
   "outputs": [
    {
     "name": "stderr",
     "output_type": "stream",
     "text": [
      "Traceback (most recent call last):\n",
      "  File \"c:\\Users\\hsabi\\Projects\\AIBox\\RegressorGE\\PonyGE2\\src\\ponyge.py\", line 31, in <module>\n",
      "    mane()\n",
      "  File \"c:\\Users\\hsabi\\Projects\\AIBox\\RegressorGE\\PonyGE2\\src\\ponyge.py\", line 21, in mane\n",
      "    set_params(sys.argv[1:])  # exclude the ponyge.py arg itself\n",
      "    ^^^^^^^^^^^^^^^^^^^^^^^^\n",
      "  File \"c:\\Users\\hsabi\\Projects\\AIBox\\RegressorGE\\PonyGE2\\src\\algorithm\\parameters.py\", line 262, in set_params\n",
      "    raise Exception(s)\n",
      "Exception: algorithm.parameters.set_params\n",
      "Error: unknown parameters: ['ers/regression.txt', '--dataset_name', 'REDWINE']\n",
      "You may wish to check the spelling, add code to recognise this parameter, or use --extra_parameters\n",
      "& was unexpected at this time.\n",
      "& was unexpected at this time.\n",
      "& was unexpected at this time.\n",
      "& was unexpected at this time.\n",
      "& was unexpected at this time.\n",
      "& was unexpected at this time.\n",
      "& was unexpected at this time.\n",
      "& was unexpected at this time.\n",
      "& was unexpected at this time.\n"
     ]
    },
    {
     "data": {
      "text/plain": [
       "'./fitness/regression.py'"
      ]
     },
     "execution_count": 7,
     "metadata": {},
     "output_type": "execute_result"
    }
   ],
   "source": [
    "!cd ./PonyGE2/src && python ponyge.py --parameters ../../parameters/{experiment}.txt --dataset_name REDWINE\n",
    "!cd ./PonyGE2/src & & python ponyge.py --parameters ../../parameters/{experiment}.txt --dataset_name SUNSPOT\n",
    "!cd ./PonyGE2/src & & python ponyge.py --parameters ../../parameters/{experiment}.txt --dataset_name B1H\n",
    "!cd ./PonyGE2/src & & python ponyge.py --parameters ../../parameters/{experiment}.txt --dataset_name POLLUTION\n",
    "!cd ./PonyGE2/src & & python ponyge.py --parameters ../../parameters/{experiment}.txt --dataset_name GAS\n",
    "!cd ./PonyGE2/src & & python ponyge.py --parameters ../../parameters/{experiment}.txt --dataset_name LAKEERIE\n",
    "!cd ./PonyGE2/src & & python ponyge.py --parameters ../../parameters/{experiment}.txt --dataset_name Electricity\n",
    "!cd ./PonyGE2/src & & python ponyge.py --parameters ../../parameters/{experiment}.txt --dataset_name PIGS\n",
    "!cd ./PonyGE2/src & & python ponyge.py --parameters ../../parameters/{experiment}.txt --dataset_name Nordic\n",
    "!cd ./PonyGE2/src & & python ponyge.py --parameters ../../parameters/{experiment}.txt --dataset_name CARSALES\n",
    "shutil.move(f\"./PonyGE2/src/fitness/{experiment}.py\", \"./fitness/\")"
   ]
  }
 ],
 "metadata": {
  "kernelspec": {
   "display_name": "Python 3",
   "language": "python",
   "name": "python3"
  },
  "language_info": {
   "codemirror_mode": {
    "name": "ipython",
    "version": 3
   },
   "file_extension": ".py",
   "mimetype": "text/x-python",
   "name": "python",
   "nbconvert_exporter": "python",
   "pygments_lexer": "ipython3",
   "version": "3.11.1"
  },
  "orig_nbformat": 4,
  "vscode": {
   "interpreter": {
    "hash": "ec24db49983a949fb72ed67dd1ffbda33d167907641147950d83ba6b0bf33f37"
   }
  }
 },
 "nbformat": 4,
 "nbformat_minor": 2
}
